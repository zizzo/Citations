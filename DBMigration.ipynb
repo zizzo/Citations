{
 "metadata": {
  "name": ""
 },
 "nbformat": 3,
 "nbformat_minor": 0,
 "worksheets": [
  {
   "cells": [
    {
     "cell_type": "code",
     "collapsed": false,
     "input": [
      "from xml.etree import ElementTree\n",
      "\n",
      "\n",
      "\n",
      "tree = ElementTree.parse(\"Citations/res/values/strings.xml\")\n",
      "root = tree.getroot()"
     ],
     "language": "python",
     "metadata": {},
     "outputs": [],
     "prompt_number": 166
    },
    {
     "cell_type": "code",
     "collapsed": false,
     "input": [
      "for i, el  in enumerate(root):\n",
      "    if el.attrib['name'].startswith('love'):\n",
      "        print i\n",
      "        break"
     ],
     "language": "python",
     "metadata": {},
     "outputs": [
      {
       "output_type": "stream",
       "stream": "stdout",
       "text": [
        "29\n"
       ]
      }
     ],
     "prompt_number": 167
    },
    {
     "cell_type": "code",
     "collapsed": false,
     "input": [
      "res = []\n",
      "\n",
      "for e in root[29:]:\n",
      "    #print e.attrib['name']\n",
      "    if e.text == 'AboutActivity':\n",
      "        break\n",
      "    text, author = e.text[1:-1].split('-')\n",
      "    \n",
      "    if e.attrib['name'].startswith('love'): cat = 'love'\n",
      "    elif e.attrib['name'].startswith('fun'): cat = 'fun'\n",
      "    elif e.attrib['name'].startswith('politics'): cat = 'politics'\n",
      "    elif e.attrib['name'].startswith('inspiring'): cat = 'inspiring'\n",
      "    elif e.attrib['name'].startswith('life'): cat = 'life'\n",
      "    else:\n",
      "        raise Exception(e.attrib['name'])\n",
      "\n",
      "    res.append({'category': cat, 'text': text.strip(), 'author': author.strip()})\n",
      "    "
     ],
     "language": "python",
     "metadata": {},
     "outputs": [],
     "prompt_number": 170
    },
    {
     "cell_type": "code",
     "collapsed": false,
     "input": [
      "import sqlite3\n",
      "\n",
      "connect = sqlite3.connect('citations.db')\n",
      "\n",
      "c = connect.cursor()"
     ],
     "language": "python",
     "metadata": {},
     "outputs": [],
     "prompt_number": 41
    },
    {
     "cell_type": "code",
     "collapsed": false,
     "input": [
      "\n",
      "\n",
      "# Schema\n",
      "c.executescript('''\n",
      "CREATE TABLE Citations (\n",
      "    id INTEGER PRIMARY KEY AUTOINCREMENT,\n",
      "    category_id INTEGER,\n",
      "    FOREIGN KEY(category_id) REFERENCES Categories(id)\n",
      ");\n",
      "              \n",
      "CREATE TABLE CitationsData (\n",
      "    id INTEGER PRIMARY KEY AUTOINCREMENT,\n",
      "    citation_id INTEGER,\n",
      "    language text,\n",
      "    value TEXT,\n",
      "    author TEXT,\n",
      "    FOREIGN KEY(citation_id) REFERENCES Citations(id)\n",
      ");\n",
      "                \n",
      "CREATE TABLE Categories (\n",
      "    id INTEGER PRIMARY KEY\n",
      ");\n",
      "''')\n"
     ],
     "language": "python",
     "metadata": {},
     "outputs": [
      {
       "metadata": {},
       "output_type": "pyout",
       "prompt_number": 128,
       "text": [
        "<sqlite3.Cursor at 0x34bf880>"
       ]
      }
     ],
     "prompt_number": 128
    },
    {
     "cell_type": "code",
     "collapsed": false,
     "input": [
      "c.executescript('''\n",
      "DROP TABLE Citations;\n",
      "DROP TABLE CitationsData;\n",
      "DROP TABLE Categories;\n",
      "''')"
     ],
     "language": "python",
     "metadata": {},
     "outputs": [
      {
       "metadata": {},
       "output_type": "pyout",
       "prompt_number": 127,
       "text": [
        "<sqlite3.Cursor at 0x34bf880>"
       ]
      }
     ],
     "prompt_number": 127
    },
    {
     "cell_type": "code",
     "collapsed": false,
     "input": [
      "# Insert Categories\n",
      "categories = [(0, 'love'), (1, 'inspiring'), (2, 'fun'), (3, 'politics'), (4, 'life')]\n",
      "#ids, values = zip(*categories)\n",
      "c.executemany('INSERT INTO Categories VALUES (?)', [(i,) for i in range(4)])"
     ],
     "language": "python",
     "metadata": {},
     "outputs": [
      {
       "metadata": {},
       "output_type": "pyout",
       "prompt_number": 129,
       "text": [
        "<sqlite3.Cursor at 0x34bf880>"
       ]
      }
     ],
     "prompt_number": 129
    },
    {
     "cell_type": "code",
     "collapsed": false,
     "input": [
      "ids = 0\n",
      "def insert_citation(value, author, language, category):    \n",
      "    global ids\n",
      "    cat_map = { 'love': 0, 'inspiring':1, 'fun': 2, 'politics': 3, 'life': 4}\n",
      "    #c.execute('insert into Citations values (?, ?)', (ids, cat_map[category]))\n",
      "    c.execute('insert into CitationsData(citation_id, language, value, author) values (?, ?, ?, ?)', (ids, language, value, author))\n",
      "    \n",
      "    ids += 1\n",
      "    \n",
      "for cit in res:\n",
      "    insert_citation(cit['text'], cit['author'], 'en_EN', cit['category'])"
     ],
     "language": "python",
     "metadata": {},
     "outputs": [],
     "prompt_number": 172
    },
    {
     "cell_type": "code",
     "collapsed": false,
     "input": [
      "c.execute(\"select * from CitationsData where citation_id=700\").fetchall()"
     ],
     "language": "python",
     "metadata": {},
     "outputs": [
      {
       "metadata": {},
       "output_type": "pyout",
       "prompt_number": 184,
       "text": [
        "[(701,\n",
        "  700,\n",
        "  u'it_IT',\n",
        "  u\"Vedo l'arte come uno strumento da cui trarre ispirazione tool\",\n",
        "  u'T. Kincade'),\n",
        " (1462, 700, u'en_EN', u'I view art as an inspirational tool', u'T. Kincade')]"
       ]
      }
     ],
     "prompt_number": 184
    },
    {
     "cell_type": "code",
     "collapsed": false,
     "input": [
      "c.execute(\"\")"
     ],
     "language": "python",
     "metadata": {},
     "outputs": [
      {
       "output_type": "stream",
       "stream": "stdout",
       "text": [
        "Amo la sensazione di essere innamorato, le farfalle nello stomaco quando ti alzi la mattina. \u00c8 speciale\n"
       ]
      }
     ],
     "prompt_number": 181
    },
    {
     "cell_type": "code",
     "collapsed": false,
     "input": [
      "connect.commit()"
     ],
     "language": "python",
     "metadata": {},
     "outputs": [],
     "prompt_number": 186
    },
    {
     "cell_type": "code",
     "collapsed": false,
     "input": [
      "connect.close()"
     ],
     "language": "python",
     "metadata": {},
     "outputs": [],
     "prompt_number": 187
    },
    {
     "cell_type": "code",
     "collapsed": false,
     "input": [],
     "language": "python",
     "metadata": {},
     "outputs": []
    }
   ],
   "metadata": {}
  }
 ]
}